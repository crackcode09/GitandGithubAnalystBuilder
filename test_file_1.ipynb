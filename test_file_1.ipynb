{
 "cells": [
  {
   "cell_type": "markdown",
   "id": "9effa5d3",
   "metadata": {},
   "source": [
    "#100 Days of Code: Python BootCamp\n",
    "By Dr. Angela Yu"
   ]
  },
  {
   "cell_type": "markdown",
   "id": "b448f661",
   "metadata": {},
   "source": [
    "#*#Day-1-Beginner-Working with Variables in Python to Manage Data*"
   ]
  },
  {
   "cell_type": "code",
   "execution_count": null,
   "id": "3d16bf0a",
   "metadata": {},
   "outputs": [],
   "source": [
    "#Printing, Commenting, Debugging, String Manipulation, and Variables"
   ]
  },
  {
   "cell_type": "markdown",
   "id": "26293b0f",
   "metadata": {},
   "source": [
    "#`Excersise 1 - Printing`"
   ]
  },
  {
   "cell_type": "markdown",
   "id": "0160612c",
   "metadata": {},
   "source": [
    "```\n",
    "Day 1 - Python Print Function\n",
    "The function is declared like this:\n",
    "print('what to print')\n",
    "\n",
    "```\n",
    "\n",
    "\n",
    "\n",
    "\n"
   ]
  },
  {
   "cell_type": "code",
   "execution_count": 1,
   "id": "3d600f2b",
   "metadata": {},
   "outputs": [
    {
     "name": "stdout",
     "output_type": "stream",
     "text": [
      "Day 1 - Python Print Function\n",
      "The function is declared like this:\n",
      "print(\"what to print\")\n"
     ]
    }
   ],
   "source": [
    "#Write your code below this line 👇\n",
    "\n",
    "print('Day 1 - Python Print Function')\n",
    "print('The function is declared like this:')\n",
    "print('print(\"what to print\")')"
   ]
  },
  {
   "cell_type": "markdown",
   "id": "1769e801",
   "metadata": {},
   "source": [
    "`If we miss out the \"\" the closing parenthesis then it would generate an error. - Verify the code before and after running.`"
   ]
  },
  {
   "cell_type": "markdown",
   "id": "da61de1c",
   "metadata": {},
   "source": [
    "```\n",
    "To print on a new line\n",
    "```"
   ]
  },
  {
   "cell_type": "code",
   "execution_count": 2,
   "id": "8d8b7a1b",
   "metadata": {},
   "outputs": [
    {
     "name": "stdout",
     "output_type": "stream",
     "text": [
      "Hello World!\n",
      "Hello World!\n"
     ]
    }
   ],
   "source": [
    "print('Hello World!\\nHello World!')"
   ]
  },
  {
   "cell_type": "markdown",
   "id": "2d08e6c4",
   "metadata": {},
   "source": [
    "#`Exercise 2 - Debugging Practice`"
   ]
  },
  {
   "cell_type": "markdown",
   "id": "c63647ec",
   "metadata": {},
   "source": [
    "```\n",
    "#Fix the code below 👇\n",
    "\n",
    "print(Day 1 - String Manipulation\")\n",
    "print(\"String Concatenation is done with the \"+\" sign.\")\n",
    "  print('e.g. print(\"Hello \" + \"world\")')\n",
    "print((\"New lines can be created with a backslash and n.\")\n",
    "\n",
    "```\n",
    "\n",
    "```\n",
    "#1. Missing double quotes before the word Day.\n",
    "print(\"Day 1 - String Manipulation\")\n",
    "\n",
    "#2. Outer double quotes changed to single quotes.\n",
    "print('String Concatenation is done with the \"+\" sign.')\n",
    "\n",
    "#3. Extra indentation removed\n",
    "print('e.g. print(\"Hello \" + \"world\")')\n",
    "\n",
    "#4. Extra ( in print function removed.\n",
    "print(\"New lines can be created with a backslash and n.\")\n",
    "\n",
    "```"
   ]
  },
  {
   "cell_type": "code",
   "execution_count": 3,
   "id": "dcfc262e",
   "metadata": {},
   "outputs": [
    {
     "name": "stdout",
     "output_type": "stream",
     "text": [
      "Day 1 - String Manipulation\n",
      "String Concatenation is done with the \"+\" sign.\n",
      "e.g. print(\"Hello \" + \"world\")\n",
      "New lines can be created with a backslash and n.\n"
     ]
    }
   ],
   "source": [
    "print(\"Day 1 - String Manipulation\")\n",
    "print('String Concatenation is done with the \"+\" sign.')\n",
    "print('e.g. print(\"Hello \" + \"world\")')\n",
    "print(\"New lines can be created with a backslash and n.\")"
   ]
  },
  {
   "cell_type": "markdown",
   "id": "445deaca",
   "metadata": {},
   "source": [
    "```\n",
    "Code Intelleginece in Replit\n",
    "```"
   ]
  },
  {
   "cell_type": "markdown",
   "id": "905e0083",
   "metadata": {},
   "source": [
    "\n",
    "\n",
    "\n",
    "#`Exercise 3 - Input Function`\n",
    "\n"
   ]
  },
  {
   "cell_type": "code",
   "execution_count": null,
   "id": "77baabed",
   "metadata": {},
   "outputs": [
    {
     "name": "stdout",
     "output_type": "stream",
     "text": [
      "What is your name?Nidhin\n",
      "6\n"
     ]
    }
   ],
   "source": [
    "input(\"What is your name?\")\n",
    "print(6)"
   ]
  },
  {
   "cell_type": "code",
   "execution_count": null,
   "id": "d49176ee",
   "metadata": {},
   "outputs": [
    {
     "name": "stdout",
     "output_type": "stream",
     "text": [
      "What is your name? Nidhin\n",
      "Hello Nidhin!\n"
     ]
    }
   ],
   "source": [
    "#Print the input function.\n",
    "#input() will get user input in console.\n",
    "#Then print () will print the word \"Hello\" and the user input.\n",
    "\n",
    "print('Hello '+ input(\"What is your name? \")+\"!\")"
   ]
  },
  {
   "cell_type": "markdown",
   "id": "15ff204a",
   "metadata": {},
   "source": [
    "```\n",
    "#Notes\n",
    "Change a code to comment or back\n",
    "Mac OS - cmd + /\n",
    "Windows - Ctrl + /\n",
    "\n",
    "Undo Comment\n",
    "Mac OS - cmd + z\n",
    "Windiows - Ctrl + z\n",
    "```"
   ]
  },
  {
   "cell_type": "markdown",
   "id": "0924218c",
   "metadata": {},
   "source": [
    "\n",
    "\n",
    "```\n",
    "Write a program that prints the number of characters in a user's name.\n",
    "You might need to Google for a function that calculates the length of a string.\n",
    "```\n",
    "\n"
   ]
  },
  {
   "cell_type": "code",
   "execution_count": null,
   "id": "4d923b21",
   "metadata": {},
   "outputs": [
    {
     "name": "stdout",
     "output_type": "stream",
     "text": [
      "What is your name? Nidhin\n",
      "6\n"
     ]
    }
   ],
   "source": [
    "#Write your code below this line 👇\n",
    "\n",
    "print( len( input(\"What is your name? \") ) )"
   ]
  },
  {
   "cell_type": "markdown",
   "id": "ea807b6f",
   "metadata": {},
   "source": [
    "#`Exercise 4 - Python Variables`"
   ]
  },
  {
   "cell_type": "code",
   "execution_count": null,
   "id": "9aa2bdee",
   "metadata": {},
   "outputs": [
    {
     "name": "stdout",
     "output_type": "stream",
     "text": [
      "What is your name? Nidhin\n"
     ]
    },
    {
     "data": {
      "application/vnd.google.colaboratory.intrinsic+json": {
       "type": "string"
      },
      "text/plain": [
       "'Nidhin'"
      ]
     },
     "metadata": {},
     "output_type": "display_data"
    }
   ],
   "source": [
    "input(\"What is your name? \")"
   ]
  },
  {
   "cell_type": "code",
   "execution_count": null,
   "id": "5356ed26",
   "metadata": {},
   "outputs": [
    {
     "name": "stdout",
     "output_type": "stream",
     "text": [
      "What is your name? Nidhin\n",
      "Nidhin\n"
     ]
    }
   ],
   "source": [
    "name = input(\"What is your name? \") #Assigning the function to a variable.\n",
    "print(name)"
   ]
  },
  {
   "cell_type": "markdown",
   "id": "196f861c",
   "metadata": {},
   "source": [
    "```\n",
    "Write a program that switches the values stored in the variables a and b.\n",
    "\n",
    "Warning. Do not change the code on lines 1-4 and 12-18.\n",
    "Your program should work for different inputs. e.g. any value of a and b.\n",
    "```"
   ]
  },
  {
   "cell_type": "markdown",
   "id": "b79610af",
   "metadata": {},
   "source": [
    "`my_solution`"
   ]
  },
  {
   "cell_type": "code",
   "execution_count": null,
   "id": "b23d9310",
   "metadata": {},
   "outputs": [
    {
     "name": "stdout",
     "output_type": "stream",
     "text": [
      "a: 1\n",
      "b: 3\n",
      "a: 3\n",
      "b: 1\n"
     ]
    }
   ],
   "source": [
    "# 🚨 Don't change the code below 👇\n",
    "a = input(\"a: \")\n",
    "b = input(\"b: \")\n",
    "# 🚨 Don't change the code above 👆\n",
    "\n",
    "####################################\n",
    "#Write your code below this line 👇\n",
    "\n",
    "x = a # Use 2 different variables to store the input into different variables and assign them back\n",
    "y = b #my solution\n",
    "\n",
    "a = y\n",
    "b = x\n",
    "\n",
    "#Write your code above this line 👆\n",
    "####################################\n",
    "\n",
    "# 🚨 Don't change the code below 👇\n",
    "print(\"a: \" + a)\n",
    "print(\"b: \" + b)"
   ]
  },
  {
   "cell_type": "markdown",
   "id": "52b3b4f5",
   "metadata": {},
   "source": [
    "`the_original_solution`"
   ]
  },
  {
   "cell_type": "code",
   "execution_count": 4,
   "id": "cddf8bb4",
   "metadata": {},
   "outputs": [
    {
     "name": "stdout",
     "output_type": "stream",
     "text": [
      "a: 3\n",
      "b: 5\n"
     ]
    }
   ],
   "source": [
    "# 🚨 Don't change the code below 👇\n",
    "a = input(\"a: \")\n",
    "b = input(\"b: \")\n",
    "# 🚨 Don't change the code above 👆\n",
    "\n",
    "####################################\n",
    "#Write your code below this line 👇\n",
    "\n",
    "c = a # Use 1 different variables to store the input into different variables and assign them back\n",
    "a = b\n",
    "b = c\n",
    "\n",
    "#Write your code above this line 👆\n",
    "####################################\n",
    "\n",
    "# 🚨 Don't change the code below 👇\n",
    "print(\"a: \" + a)\n",
    "print(\"b: \" + b)"
   ]
  },
  {
   "cell_type": "markdown",
   "id": "11e34882",
   "metadata": {},
   "source": [
    "`The name of any variables make it a single name or if needed to seperate use \"_\" for e.g. : user_name; Also don't use any function names as variables name.\n",
    "When reffering back to teh variabels make sure the name is correct, because when the name of the variable was used it was not spelt the same, you will get a name error. `"
   ]
  },
  {
   "cell_type": "markdown",
   "id": "11f1975d",
   "metadata": {},
   "source": [
    "\n",
    "\n",
    "\n",
    "#`Day-1 Project - Band Name Generator`\n",
    "\n",
    "\n"
   ]
  },
  {
   "cell_type": "markdown",
   "id": "87d88933",
   "metadata": {},
   "source": [
    "\n",
    "\n",
    "```\n",
    "#1. Create a greeting for your program.\n",
    "#2. Ask the user for the city that they grew up in.\n",
    "#3. Ask the user for the name of a pet.\n",
    "#4. Combine the name of their city and pet and show them their band name.\n",
    "#5. Make sure the input cursor shows on a new line:\n",
    "\n",
    "# Solution: https://replit.com/@appbrewery/band-name-generator-end\n",
    "```\n",
    "\n"
   ]
  },
  {
   "cell_type": "code",
   "execution_count": 5,
   "id": "8c66cfe6",
   "metadata": {},
   "outputs": [
    {
     "name": "stdout",
     "output_type": "stream",
     "text": [
      "Welcome to the Band Name Generator.\n",
      "Your band name could be Kolam Rocky\n"
     ]
    }
   ],
   "source": [
    "print('Welcome to the Band Name Generator.')\n",
    "city_name = input(\"What's name of the city you grew in? \\n\")\n",
    "# print(city_name)\n",
    "pet_name = input(\"What's your pet's name? \\n\")\n",
    "# print(pet_name)\n",
    "print(\"Your band name could be \" + city_name +\" \"+ pet_name)"
   ]
  },
  {
   "cell_type": "markdown",
   "id": "d513c684",
   "metadata": {},
   "source": [
    "# *#Day-2-Beginner-Understanding Data Types and How to Manipulate Strings*\n"
   ]
  },
  {
   "cell_type": "code",
   "execution_count": null,
   "id": "bd93b090",
   "metadata": {},
   "outputs": [],
   "source": [
    "#DataType, Numbers, Operations, Type Conversion, f-Strings"
   ]
  },
  {
   "cell_type": "markdown",
   "id": "d19bf852",
   "metadata": {},
   "source": [
    "#*#Data Types*\n",
    "\n",
    "\n",
    "> String\n",
    "\n",
    "    1. print(\"Hello\"[0]) - #the first character or the position /index of the string is always called using [0].\n",
    "    2. For e.g. if we print(\"Hello\"[0]), it will give us the result \">H\".\n",
    "    3. The method of pulling an element from a string is called \"Subscripting\".\n",
    "    4. The number in the square brackets tells which character is going to be pulled out.\n",
    "\n",
    "> Integer\n",
    "\n",
    "    1. It is a number data types\n",
    "    2. Whole numbers - 123\n",
    "    3. Large Integeres - 342, 654,789 - 342_654_789[in python]\n",
    "\n",
    "\n",
    "> Float\n",
    "\n",
    "    1. Float - 3.145895878  - Floating point number\n",
    "\n",
    "\n",
    "> Boolean\n",
    "\n",
    "    1. True/False\n",
    "\n",
    "\n",
    "\n",
    "\n",
    "\n",
    "\n"
   ]
  },
  {
   "cell_type": "code",
   "execution_count": null,
   "id": "82f23cc8",
   "metadata": {},
   "outputs": [
    {
     "name": "stdout",
     "output_type": "stream",
     "text": [
      "H\n",
      "o\n",
      "yo\n"
     ]
    }
   ],
   "source": [
    "#Data types\n",
    "\n",
    "#String\n",
    "\n",
    "print(\"Hello\"[0])\n",
    "print(\"Hello\"[4])\n",
    "\n",
    "#Quiz\n",
    "\n",
    "street_name = \"Abbey Road\"\n",
    "print(street_name[4] + street_name[7])\n"
   ]
  },
  {
   "cell_type": "code",
   "execution_count": null,
   "id": "1694d158",
   "metadata": {},
   "outputs": [
    {
     "name": "stdout",
     "output_type": "stream",
     "text": [
      "What is your name? Nidhin\n",
      "<class 'int'>\n"
     ]
    }
   ],
   "source": [
    "num_char = len(input(\"What is your name? \"))\n",
    "# print(\"Your name has \" + num_char + \"characters.\")\n",
    "\n",
    "print(type(num_char))"
   ]
  },
  {
   "cell_type": "code",
   "execution_count": null,
   "id": "13aa260f",
   "metadata": {},
   "outputs": [
    {
     "name": "stdout",
     "output_type": "stream",
     "text": [
      "What is your name? Nidhin\n",
      "Your name has 6 characters.\n",
      "<class 'int'>\n",
      "<class 'str'>\n"
     ]
    }
   ],
   "source": [
    "num_char = len(input(\"What is your name? \"))\n",
    "\n",
    "new_num_char = str(num_char)# casting the function - changing the data type to another one\n",
    "\n",
    "print(\"Your name has \" + new_num_char + \" characters.\")\n",
    "\n",
    "print(type(num_char))\n",
    "print(type(new_num_char))"
   ]
  },
  {
   "cell_type": "code",
   "execution_count": null,
   "id": "363da1cf",
   "metadata": {},
   "outputs": [
    {
     "name": "stdout",
     "output_type": "stream",
     "text": [
      "<class 'float'>\n",
      "170.5\n",
      "70100\n"
     ]
    }
   ],
   "source": [
    "a = float(123)\n",
    "print(type(a))\n",
    "\n",
    "print(70 + float(\"100.5\"))\n",
    "\n",
    "print(str(70) + str(100))"
   ]
  },
  {
   "cell_type": "markdown",
   "id": "972b69b1",
   "metadata": {},
   "source": [
    "#`Exercise 1 - Data types`"
   ]
  },
  {
   "cell_type": "markdown",
   "id": "34a687ec",
   "metadata": {},
   "source": [
    "\n",
    "\n",
    "```\n",
    "Write a program that adds the digits in a 2 digit number. e.g. if the input was 35, then the output should be 3 + 5 = 8\n",
    "```\n",
    "\n"
   ]
  },
  {
   "cell_type": "code",
   "execution_count": null,
   "id": "2ac0de11",
   "metadata": {},
   "outputs": [
    {
     "name": "stdout",
     "output_type": "stream",
     "text": [
      "Type a two digit number: 27\n",
      "9\n"
     ]
    }
   ],
   "source": [
    "# 🚨 Don't change the code below 👇\n",
    "two_digit_number = input(\"Type a two digit number: \")\n",
    "# 🚨 Don't change the code above 👆\n",
    "\n",
    "####################################\n",
    "#Write your code below this line 👇\n",
    "\n",
    "# Convert the variable type from int to str\n",
    "num_str = str(two_digit_number)\n",
    "\n",
    "#Do subscripting of the number, and dop type cpnversion from str to int\n",
    "print(int(num_str[0])+int(num_str[1]))\n"
   ]
  },
  {
   "cell_type": "markdown",
   "id": "f9236326",
   "metadata": {},
   "source": [
    "\n",
    "\n",
    "\n",
    "#`Mathematical Operators`\n",
    "\n",
    "\n",
    "\n",
    "> Addition, Subtraction, Division, Multiply, and Exponent\n",
    "\n",
    "      +, -, /, *, **\n",
    "\n",
    "\n",
    "\n",
    "> BODMAS /PEMDAS\n",
    "\n",
    "      - Brackets, Order, Division, Multiply, Addition, Subtraction\n",
    "\n",
    "\n",
    "\n",
    "\n",
    "\n",
    "\n",
    "\n",
    "\n"
   ]
  },
  {
   "cell_type": "code",
   "execution_count": null,
   "id": "fd2cfb38",
   "metadata": {},
   "outputs": [
    {
     "name": "stdout",
     "output_type": "stream",
     "text": [
      "7.0\n"
     ]
    }
   ],
   "source": [
    "print(3*3+3/3-3)"
   ]
  },
  {
   "cell_type": "code",
   "execution_count": null,
   "id": "34be5b98",
   "metadata": {},
   "outputs": [
    {
     "name": "stdout",
     "output_type": "stream",
     "text": [
      "3.0\n"
     ]
    }
   ],
   "source": [
    "print(3*(3+3)/3-3)"
   ]
  },
  {
   "cell_type": "markdown",
   "id": "25f30b69",
   "metadata": {},
   "source": [
    "#`Exercise 2 - BMI Calculator`"
   ]
  },
  {
   "cell_type": "markdown",
   "id": "42801173",
   "metadata": {},
   "source": [
    "```\n",
    "Write a program that calculates the Body Mass Index (BMI) from a user's weight and height.\n",
    "\n",
    "The BMI is a measure of someone's weight taking into account their height.\n",
    "e.g. If a tall person and a short person both weigh the same amount, the short person is usually more overweight.\n",
    "\n",
    "The BMI is calculated by dividing a person's weight (in kg) by the square of their height (in m):\n",
    "```\n",
    "![image.png](data:image/png;base64,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)\n",
    "\n"
   ]
  },
  {
   "cell_type": "code",
   "execution_count": null,
   "id": "8524c7cb",
   "metadata": {},
   "outputs": [
    {
     "name": "stdout",
     "output_type": "stream",
     "text": [
      "enter your height in m: 17\n",
      "enter your weight in kg: 98\n",
      "0\n"
     ]
    }
   ],
   "source": [
    "# 🚨 Don't change the code below 👇\n",
    "height = input(\"enter your height in m: \")\n",
    "weight = input(\"enter your weight in kg: \")\n",
    "# 🚨 Don't change the code above 👆\n",
    "\n",
    "#Write your code below this line 👇\n",
    "\n",
    "bmi = float(weight)/(float(height)**2)\n",
    "bmi_as_int = int(bmi)\n",
    "print(bmi_as_int)\n",
    "\n"
   ]
  },
  {
   "cell_type": "code",
   "execution_count": null,
   "id": "ead89016",
   "metadata": {},
   "outputs": [
    {
     "name": "stdout",
     "output_type": "stream",
     "text": [
      "2.67\n"
     ]
    }
   ],
   "source": [
    "print(round(8/3,2))\n",
    "\n"
   ]
  },
  {
   "cell_type": "markdown",
   "id": "0647f560",
   "metadata": {},
   "source": [
    "#`Exercise 3 - Life in weeks`"
   ]
  },
  {
   "cell_type": "markdown",
   "id": "4bb8d37b",
   "metadata": {},
   "source": [
    "\n",
    "\n",
    "```\n",
    "I was reading this article by Tim Urban - Your Life in Weeks and realised just how little time we actually have.\n",
    "\n",
    "https://waitbutwhy.com/2014/05/life-weeks.html\n",
    "\n",
    "Create a program using maths and f-Strings that tells us how many days, weeks, months we have left if we live until 90 years old.\n",
    "\n",
    "It will take your current age as the input and output a message with our time left in this format:\n",
    "\n",
    "You have x days, y weeks, and z months left.\n",
    "\n",
    "Where x, y and z are replaced with the actual calculated numbers.\n",
    "```\n",
    "\n"
   ]
  },
  {
   "cell_type": "code",
   "execution_count": null,
   "id": "9dd25488",
   "metadata": {},
   "outputs": [
    {
     "name": "stdout",
     "output_type": "stream",
     "text": [
      "1.0\n",
      "1\n",
      "your score is 1, your height is 1.8, you are winning is True\n"
     ]
    }
   ],
   "source": [
    "\n",
    "#short hand printing - \"+=\"\\\"-=\"\\\"/=\"\n",
    "result = 4/2\n",
    "result/=2\n",
    "print(result)\n",
    "\n",
    "score = 0\n",
    "score += 1\n",
    "print(score)\n",
    "height = 1.8\n",
    "isWinning = True\n",
    "\n",
    "#f-String\n",
    "\n",
    "print(f\"your score is {score}, your height is {height}, you are winning is {isWinning}\")\n"
   ]
  },
  {
   "cell_type": "code",
   "execution_count": null,
   "id": "107e09a4",
   "metadata": {},
   "outputs": [
    {
     "name": "stdout",
     "output_type": "stream",
     "text": [
      "What is your current age? 56\n",
      "You have 12410 days, 1768 weeks, and 408 months left.\n"
     ]
    }
   ],
   "source": [
    "# 🚨 Don't change the code below 👇\n",
    "age = input(\"What is your current age? \")\n",
    "# 🚨 Don't change the code above 👆\n",
    "\n",
    "#Write your code below this line 👇\n",
    "\n",
    "x= 90-int(age)#difference\n",
    "mon_y = (x*12)#months - 12 months in a year\n",
    "week_z = (x*52)#weeks - 52 weeks in a year\n",
    "days_v = (x*365)#days - 365 days in a year\n",
    "\n",
    "print(f\"You have {days_v} days, {week_z} weeks, and {mon_y} months left.\")\n",
    "\n",
    "# print(x)\n",
    "# print(type(x))\n",
    "# print(mon_y)\n",
    "# print(week_z)\n",
    "# print(days_v)\n"
   ]
  },
  {
   "cell_type": "code",
   "execution_count": null,
   "id": "479f908b",
   "metadata": {},
   "outputs": [
    {
     "name": "stdout",
     "output_type": "stream",
     "text": [
      "What is your current age? 67\n",
      "You have 8395 days, 1196 weeks, and 276 months left\n"
     ]
    }
   ],
   "source": [
    "# 🚨 Don't change the code below 👇\n",
    "age = input(\"What is your current age? \")\n",
    "# 🚨 Don't change the code above 👆\n",
    "\n",
    "#Write your code below this line 👇\n",
    "\n",
    "age_as_int = int(age)\n",
    "years_remaining = 90 - age_as_int\n",
    "days_remaining = years_remaining*365\n",
    "weeks_remaining = years_remaining*52\n",
    "months_remaining = years_remaining*12\n",
    "\n",
    "message = (f\"You have {days_remaining} days, {weeks_remaining} weeks, and {months_remaining} months left\")\n",
    "print(message)"
   ]
  },
  {
   "cell_type": "code",
   "execution_count": null,
   "id": "d9500bad",
   "metadata": {},
   "outputs": [
    {
     "name": "stdout",
     "output_type": "stream",
     "text": [
      "6.0\n"
     ]
    }
   ],
   "source": [
    "print(6 + 4 / 2 - (1 * 2))"
   ]
  },
  {
   "cell_type": "code",
   "execution_count": null,
   "id": "b7fde7ed",
   "metadata": {},
   "outputs": [
    {
     "name": "stdout",
     "output_type": "stream",
     "text": [
      "What is you name?Nidhin\n",
      "Hello,Nidhin\n",
      "You are 12 years old\n"
     ]
    }
   ],
   "source": [
    "name = input(\"What is you name?\")\n",
    "print(f\"Hello,\" +name)\n",
    "\n",
    "age = 12\n",
    "print(f\"You are {age} years old\")"
   ]
  },
  {
   "cell_type": "markdown",
   "id": "d82bdaf7",
   "metadata": {},
   "source": [
    "#`Day-2 Project - Tip Calculator`"
   ]
  },
  {
   "cell_type": "code",
   "execution_count": null,
   "id": "332ffa08",
   "metadata": {},
   "outputs": [
    {
     "name": "stdout",
     "output_type": "stream",
     "text": [
      "Welcome to the tip calculator\n",
      "What was the total bill? 160\n",
      "What percentage tip would you like to give? 10, 12 or 15? 20\n",
      "How many people to split the bill? 4\n",
      "Each person should pay: $48.00\n"
     ]
    }
   ],
   "source": [
    "#If the bill was $150.00, split between 5 people, with 12% tip.\n",
    "\n",
    "#Each person should pay (150.00 / 5) * 1.12 = 33.6\n",
    "#Format the result to 2 decimal places = 33.60\n",
    "\n",
    "#Tip: There are 2 ways to round a number. You might have to do some Googling to solve this.💪\n",
    "\n",
    "#Write your code below this line 👇\n",
    "print(\"Welcome to the tip calculator\")\n",
    "bill_total = input(\"What was the total bill? \")\n",
    "tip_percent= input('What percentage tip would you like to give? 10, 12 or 15? ')\n",
    "bill_plus_tip = float(bill_total) + (float(bill_total)*(float(tip_percent)/100))\n",
    "# print(bill_plus_tip)\n",
    "bill_split  = input('How many people to split the bill? ')\n",
    "bill_final = round(float(bill_plus_tip)/int(bill_split),2)\n",
    "bill_final = \"{:.2f}\".format(bill_final)#2 Decimal format\n",
    "print(f\"Each person should pay: ${bill_final}\")"
   ]
  },
  {
   "cell_type": "code",
   "execution_count": null,
   "id": "51d83d2c",
   "metadata": {},
   "outputs": [
    {
     "data": {
      "text/plain": [
       "33.6"
      ]
     },
     "metadata": {},
     "output_type": "display_data"
    }
   ],
   "source": [
    "150+(150*12/100)\n",
    "168/5\n"
   ]
  },
  {
   "cell_type": "markdown",
   "id": "f44839b9",
   "metadata": {},
   "source": [
    "# *#Day-3-Beginner-Control Flow and Logical Operators*\n"
   ]
  },
  {
   "cell_type": "code",
   "execution_count": null,
   "id": "f20b1fbc",
   "metadata": {},
   "outputs": [],
   "source": [
    "#Conditional Statement, Logical Operators, Code Blocks, and Scope"
   ]
  },
  {
   "cell_type": "markdown",
   "id": "0e77d49d",
   "metadata": {},
   "source": [
    "#`Conditional Statement`\n",
    "\n",
    "\n",
    ">`if /Else : Used of conditional cases`\n",
    "\n",
    "      if condition:\n",
    "        do this\n",
    "      else:\n",
    "        do this\n",
    "\n"
   ]
  },
  {
   "cell_type": "markdown",
   "id": "d2d3a1c9",
   "metadata": {},
   "source": [
    "#`Exercise 1 - Odd or Even? Introducing the Modulo`"
   ]
  },
  {
   "cell_type": "code",
   "execution_count": null,
   "id": "15df67cc",
   "metadata": {},
   "outputs": [
    {
     "name": "stdout",
     "output_type": "stream",
     "text": [
      "Welcome to the rollercoaster\n",
      "What is your height in cm? 120\n",
      "You can ride the rollercoaster!\n",
      "Welcome to the rollercoaster\n",
      "What is your height in cm? 150\n",
      "Sorry you have to grow taller before you can ride.\n"
     ]
    }
   ],
   "source": [
    "#Activity\n",
    "\n",
    "print(\"Welcome to the rollercoaster\")\n",
    "height = int(input(\"What is your height in cm? \"))\n",
    "\n",
    "if height>=120: #The \":\" is very important\n",
    "  print(\"You can ride the rollercoaster!\") #The intendation is very important\n",
    "else:\n",
    "  print(\"Sorry you have to grow taller before you can ride.\\n\")\n",
    "\n",
    "#Activity\n",
    "\n",
    "print(\"Welcome to the rollercoaster\")\n",
    "height = int(input(\"What is your height in cm? \"))\n",
    "\n",
    "if height == 120: #The \":\" is very important\n",
    "  print(\"You can ride the rollercoaster!\") #The intendation is very important\n",
    "else:\n",
    "  print(\"Sorry you have to grow taller before you can ride.\")\n"
   ]
  },
  {
   "cell_type": "code",
   "execution_count": null,
   "id": "8b2af0ab",
   "metadata": {},
   "outputs": [
    {
     "name": "stdout",
     "output_type": "stream",
     "text": [
      "3.5\n",
      "1\n"
     ]
    }
   ],
   "source": [
    "print(7/2)\n",
    "print(7%2)#Modulo_operator"
   ]
  },
  {
   "cell_type": "code",
   "execution_count": null,
   "id": "865ce74e",
   "metadata": {},
   "outputs": [
    {
     "name": "stdout",
     "output_type": "stream",
     "text": [
      "Which number do you want to check? 7\n",
      "This is an odd number\n"
     ]
    }
   ],
   "source": [
    "#Challenge\n",
    "# 🚨 Don't change the code below 👇\n",
    "number = int(input(\"Which number do you want to check? \"))\n",
    "# 🚨 Don't change the code above 👆\n",
    "\n",
    "#Write your code below this line 👇\n",
    "\n",
    "if number %2 ==0:\n",
    "  print(\"This is an even number.\")\n",
    "else:\n",
    "  print(\"This is an odd number\")\n"
   ]
  },
  {
   "cell_type": "markdown",
   "id": "e379d1a0",
   "metadata": {},
   "source": [
    "#`Exercise 2 - BMI 2.0`"
   ]
  },
  {
   "cell_type": "markdown",
   "id": "10fb8e6d",
   "metadata": {},
   "source": [
    "`Nested If Statements`\n",
    "\n",
    "    if condition:\n",
    "      if another condition:\n",
    "        do this\n",
    "      else:\n",
    "        do this\n",
    "    else:\n",
    "      do this"
   ]
  },
  {
   "cell_type": "code",
   "execution_count": null,
   "id": "066ecc2a",
   "metadata": {},
   "outputs": [
    {
     "name": "stdout",
     "output_type": "stream",
     "text": [
      "Welcome to the rollercoaster\n",
      "What is your height in cm? 120\n",
      "You can ride the rollercoaster!\n",
      "What is your age? 16\n",
      "Please pay $7.\n"
     ]
    }
   ],
   "source": [
    "#Activity\n",
    "\n",
    "print(\"Welcome to the rollercoaster\")\n",
    "height = int(input(\"What is your height in cm? \"))\n",
    "\n",
    "if height>=120: #The \":\" is very important\n",
    "  print(\"You can ride the rollercoaster!\") #The intendation is very important\n",
    "  age = int(input(\"What is your age? \"))\n",
    "  if age < 18:\n",
    "    print(\"Please pay $7.\")\n",
    "  else:\n",
    "    print(\"Please Pay $12.\")\n",
    "else:\n",
    "  print(\"Sorry you have to grow taller before you can ride.\\n\")"
   ]
  },
  {
   "cell_type": "code",
   "execution_count": null,
   "id": "4ec2f287",
   "metadata": {},
   "outputs": [
    {
     "name": "stdout",
     "output_type": "stream",
     "text": [
      "Welcome to the rollercoaster\n",
      "What is your height in cm? 120\n",
      "You can ride the rollercoaster!\n",
      "What is your age? 13\n",
      "Please pay $7.\n"
     ]
    }
   ],
   "source": [
    "#Activity - if/else/elif\n",
    "\n",
    "print(\"Welcome to the rollercoaster\")\n",
    "height = int(input(\"What is your height in cm? \"))\n",
    "\n",
    "if height>=120: #The \":\" is very important\n",
    "  print(\"You can ride the rollercoaster!\") #The intendation is very important\n",
    "  age = int(input(\"What is your age? \"))\n",
    "  if age < 12:\n",
    "    print(\"Please pay $5.\")\n",
    "  elif age <=18:\n",
    "    print(\"Please pay $7.\")\n",
    "  else:\n",
    "    print(\"Please Pay $12.\")\n",
    "else:\n",
    "  print(\"Sorry you have to grow taller before you can ride.\\n\")"
   ]
  },
  {
   "cell_type": "code",
   "execution_count": null,
   "id": "8f0a9040",
   "metadata": {},
   "outputs": [
    {
     "name": "stdout",
     "output_type": "stream",
     "text": [
      "enter your height in m: 1.75\n",
      "enter your weight in kg: 85\n",
      "Your BMI is 28, you are slightly overweight\n"
     ]
    }
   ],
   "source": [
    "\n",
    "# 🚨 Don't change the code below 👇\n",
    "height = float(input(\"enter your height in m: \"))\n",
    "weight = float(input(\"enter your weight in kg: \"))\n",
    "# 🚨 Don't change the code above 👆\n",
    "\n",
    "#Write your code below this line 👇\n",
    "\n",
    "bmi = round(float(weight)/(float(height)**2))\n",
    "bmi_as_int = int(bmi)\n",
    "# print(bmi_as_int)8\n",
    "if int(bmi)<18.5:\n",
    "  print(f\"Your BMI is {int(bmi)}, you are underweight\")\n",
    "elif int(bmi)<=25:\n",
    "  print(f\"Your BMI is {int(bmi)}, you are normal weight\")\n",
    "elif int(bmi)<=30:\n",
    "  print(f\"Your BMI is {int(bmi)}, you are slightly overweight\")\n",
    "elif int(bmi)<=35:\n",
    "  print(f\"Your BMI is {int(bmi)}, you are obese\")\n",
    "else:\n",
    "  print(f\"Your BMI is {int(bmi)}, you are clinically obese\")\n"
   ]
  },
  {
   "cell_type": "markdown",
   "id": "9b06cf4b",
   "metadata": {},
   "source": [
    "#`Exercise 3 - Leap Year`\n",
    "\n",
    "\n"
   ]
  },
  {
   "cell_type": "code",
   "execution_count": null,
   "id": "129024a8",
   "metadata": {},
   "outputs": [
    {
     "name": "stdout",
     "output_type": "stream",
     "text": [
      "Which year do you want to check? 2100\n",
      "Not leap year.\n",
      "Not leap year.\n"
     ]
    }
   ],
   "source": [
    "# 🚨 Don't change the code below 👇\n",
    "year = int(input(\"Which year do you want to check? \"))\n",
    "# 🚨 Don't change the code above 👆\n",
    "\n",
    "#Write your code below this line 👇\n",
    "\n",
    "if year%4 == 0:\n",
    "  # print(\"Leap Year\")\n",
    "  if year%100 == 0:\n",
    "    # print(\"Leap Year\")\n",
    "    if year%400 == 0:\n",
    "      print(\"Leap year.\")\n",
    "    else:\n",
    "      print(\"Not leap year.\")\n",
    "  else:\n",
    "    print(\"Leap year.\")\n",
    "else:\n",
    "  print(\"Not leap year.\")\n",
    "\n",
    "#Alternative coding\n",
    "\n",
    "if (year%4==0)and not(year%100==0):\n",
    "  print(\"Leap Year\")\n",
    "elif year%400 == 0:\n",
    "  print(\"Leap Year\")\n",
    "else:\n",
    "  print(\"Not leap year.\")\n"
   ]
  },
  {
   "cell_type": "markdown",
   "id": "4172d4d3",
   "metadata": {},
   "source": [
    "![image.png](data:image/png;base64,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)"
   ]
  },
  {
   "cell_type": "code",
   "execution_count": null,
   "id": "48a107ca",
   "metadata": {},
   "outputs": [
    {
     "name": "stdout",
     "output_type": "stream",
     "text": [
      "Welcome to the rollercoaster\n",
      "What is your height in cm? 125\n",
      "You can ride the rollercoaster!\n",
      "What is your age? 25\n",
      "Adult tickets are $12.\n",
      "Do you want a photo taken? Y or N. Y\n",
      "Your final bill is $15\n"
     ]
    }
   ],
   "source": [
    "#Activity - if/elif/else\n",
    "\n",
    "print(\"Welcome to the rollercoaster\")\n",
    "height = int(input(\"What is your height in cm? \"))\n",
    "bill = 0\n",
    "\n",
    "if height>=120: #The \":\" is very important\n",
    "  print(\"You can ride the rollercoaster!\") #The intendation is very important\n",
    "  age = int(input(\"What is your age? \"))\n",
    "  if age < 12:\n",
    "    print(\"Child Tickets are $5.\")\n",
    "    bill=5\n",
    "  elif age <=18:\n",
    "    print(\"Youth tickets are $7.\")\n",
    "    bill=7\n",
    "  else:\n",
    "    print(\"Adult tickets are $12.\")\n",
    "    bill=12\n",
    "\n",
    "  photos = input(\"Do you want a photo taken? Y or N. \" )\n",
    "  if photos == \"Y\":\n",
    "    #Add $3 to their bill\n",
    "    bill+=3\n",
    "  print(f\"Your final bill is ${bill}\")\n",
    "\n",
    "else:\n",
    "  print(\"Sorry you have to grow taller before you can ride.\\n\")\n"
   ]
  },
  {
   "cell_type": "markdown",
   "id": "805a4ebc",
   "metadata": {},
   "source": [
    "#`Exercise 4 - Pizza Order Challenge`"
   ]
  },
  {
   "cell_type": "markdown",
   "id": "ccc1f558",
   "metadata": {},
   "source": [
    "```\n",
    "Congratulations, you've got a job at Python Pizza. Your first job is to build an automatic pizza order program.\n",
    "\n",
    "Based on a user's order, work out their final bill.\n",
    "\n",
    "Small Pizza: $15\n",
    "\n",
    "Medium Pizza: $20\n",
    "\n",
    "Large Pizza: $25\n",
    "\n",
    "Pepperoni for Small Pizza: +$2\n",
    "\n",
    "Pepperoni for Medium or Large Pizza: +$3\n",
    "\n",
    "Extra cheese for any size pizza: + $1\n",
    "```"
   ]
  },
  {
   "cell_type": "code",
   "execution_count": null,
   "id": "f9a768df",
   "metadata": {},
   "outputs": [
    {
     "name": "stdout",
     "output_type": "stream",
     "text": [
      "Welcome to Python Pizza Deliveries!\n",
      "What size pizza do you want? S, M, or L S\n",
      "Do you want pepperoni? Y or N Y\n",
      "Do you want extra cheese? Y or N Y\n",
      "Your final Bill is: $18\n"
     ]
    }
   ],
   "source": [
    "# 🚨 Don't change the code below 👇\n",
    "print(\"Welcome to Python Pizza Deliveries!\")\n",
    "size = input(\"What size pizza do you want? S, M, or L \")\n",
    "add_pepperoni = input(\"Do you want pepperoni? Y or N \")\n",
    "extra_cheese = input(\"Do you want extra cheese? Y or N \")\n",
    "# 🚨 Don't change the code above 👆\n",
    "\n",
    "#Write your code below this line 👇\n",
    "Bill_Total = 0\n",
    "if size == \"S\":\n",
    "  Bill_Total+=15\n",
    "elif size == \"M\":\n",
    "  Bill_Total+=20\n",
    "else:\n",
    "    Bill_Total+=25\n",
    "  # print(Bill_Total)\n",
    "\n",
    "if add_pepperoni == \"Y\":\n",
    "  if size == \"S\":\n",
    "    Bill_Total+=2\n",
    "  else:\n",
    "    Bill_Total+=3\n",
    "\n",
    "if extra_cheese==\"Y\":\n",
    "  Bill_Total+=1\n",
    "\n",
    "print(f\"Your final Bill is: ${Bill_Total}\")\n",
    "\n"
   ]
  },
  {
   "cell_type": "markdown",
   "id": "b1c6e5a0",
   "metadata": {},
   "source": [
    "#`Logical Operators`"
   ]
  },
  {
   "cell_type": "code",
   "execution_count": null,
   "id": "64b95a90",
   "metadata": {},
   "outputs": [
    {
     "data": {
      "text/plain": [
       "False"
      ]
     },
     "metadata": {},
     "output_type": "display_data"
    }
   ],
   "source": [
    "#if condition 1 & condition 2 & condition 3\n",
    "  #do this\n",
    "#else:\n",
    "  #do this\n",
    "\n",
    "#Logical Operators\n",
    "#A and B - both of them has to be true\n",
    "#C or D - one of them needs to be true\n",
    "#not E - negation !E\n",
    "\n",
    "a= 12\n",
    "a>15\n",
    "a>10\n",
    "a>10 and a<13\n",
    "a<15 and a>13"
   ]
  },
  {
   "cell_type": "markdown",
   "id": "cdc7b454",
   "metadata": {},
   "source": [
    "![image.png](data:image/png;base64,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)"
   ]
  },
  {
   "cell_type": "code",
   "execution_count": null,
   "id": "432b47bd",
   "metadata": {},
   "outputs": [],
   "source": [
    "#Activity - if/elif/else\n",
    "\n",
    "print(\"Welcome to the rollercoaster\")\n",
    "height = int(input(\"What is your height in cm? \"))\n",
    "bill = 0\n",
    "\n",
    "if height>=120: #The \":\" is very important\n",
    "  print(\"You can ride the rollercoaster!\") #The intendation is very important\n",
    "  age = int(input(\"What is your age? \"))\n",
    "  if age < 12:\n",
    "    print(\"Child Tickets are $5.\")\n",
    "    bill=5\n",
    "  elif age <=18:\n",
    "    print(\"Youth tickets are $7.\")\n",
    "    bill=7\n",
    "  elif age>=45 and age<=55:\n",
    "    print(\"Everything is going to be ok. Have a free ride on us!\")\n",
    "  else:\n",
    "    print(\"Adult tickets are $12.\")\n",
    "    bill=12\n",
    "\n",
    "  photos = input(\"Do you want a photo taken? Y or N. \" )\n",
    "  if photos == \"Y\":\n",
    "    #Add $3 to their bill\n",
    "    bill+=3\n",
    "  print(f\"Your final bill is ${bill}\")\n",
    "\n",
    "else:\n",
    "  print(\"Sorry you have to grow taller before you can ride.\\n\")"
   ]
  },
  {
   "cell_type": "markdown",
   "id": "63c4cb81",
   "metadata": {},
   "source": [
    "#`Exercise 5 - Love Calculator`"
   ]
  },
  {
   "cell_type": "code",
   "execution_count": null,
   "id": "fb740e12",
   "metadata": {},
   "outputs": [
    {
     "name": "stdout",
     "output_type": "stream",
     "text": [
      "Welcome to the Love Calculator!\n",
      "What is your name? \n",
      "Aparna Harikumar\n",
      "What is their name? \n",
      "Nidhin Dileepkumat\n",
      "Your score is 83.\n"
     ]
    }
   ],
   "source": [
    "# 🚨 Don't change the code below 👇\n",
    "print(\"Welcome to the Love Calculator!\")\n",
    "name1 = input(\"What is your name? \\n\")\n",
    "name2 = input(\"What is their name? \\n\")\n",
    "# 🚨 Don't change the code above 👆\n",
    "\n",
    "#Write your code below this line 👇\n",
    "\n",
    "combined_names = name1 + name2\n",
    "lower_names = combined_names.lower()\n",
    "t = lower_names.count(\"t\")\n",
    "r = lower_names.count(\"r\")\n",
    "u = lower_names.count(\"u\")\n",
    "e = lower_names.count(\"e\")\n",
    "first_digit = t + r + u + e\n",
    "\n",
    "l = lower_names.count(\"l\")\n",
    "o = lower_names.count(\"o\")\n",
    "v = lower_names.count(\"v\")\n",
    "e = lower_names.count(\"e\")\n",
    "second_digit = l + o + v + e\n",
    "\n",
    "score = int(str(first_digit) + str(second_digit))\n",
    "\n",
    "if (score < 10) or (score > 90):\n",
    "  print(f\"Your score is {score}, you go together like coke and mentos.\")\n",
    "elif (score >= 40) and (score <= 50):\n",
    "  print(f\"Your score is {score}, you are alright together.\")\n",
    "else:\n",
    "  print(f\"Your score is {score}.\")\n",
    "\n"
   ]
  },
  {
   "cell_type": "markdown",
   "id": "e690de48",
   "metadata": {},
   "source": [
    "#`Day-3 Project - Treasure Island`"
   ]
  },
  {
   "cell_type": "markdown",
   "id": "769c2c81",
   "metadata": {},
   "source": [
    "![image.png](data:image/png;base64,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)"
   ]
  },
  {
   "cell_type": "code",
   "execution_count": null,
   "id": "9c618e20",
   "metadata": {},
   "outputs": [
    {
     "name": "stdout",
     "output_type": "stream",
     "text": [
      "\n",
      "*******************************************************************************\n",
      "          |                   |                  |                     |\n",
      " _________|________________.=\"\"_;=.______________|_____________________|_______\n",
      "|                   |  ,-\"_,=\"\"     `\"=.|                  |\n",
      "|___________________|__\"=._o`\"-._        `\"=.______________|___________________\n",
      "          |                `\"=._o`\"=._      _`\"=._                     |\n",
      " _________|_____________________:=._o \"=._.\"_.-=\"'\"=.__________________|_______\n",
      "|                   |    __.--\" , ; `\"=._o.\" ,-\"\"\"-._ \".   |\n",
      "|___________________|_._\"  ,. .` ` `` ,  `\"-._\"-._   \". '__|___________________\n",
      "          |           |o`\"=._` , \"` `; .\". ,  \"-._\"-._; ;              |\n",
      " _________|___________| ;`-.o`\"=._; .\" ` '`.\"\\` . \"-._ /_______________|_______\n",
      "|                   | |o;    `\"-.o`\"=._``  '` \" ,__.--o;   |\n",
      "|___________________|_| ;     (#) `-.o `\"=.`_.--\"_o.-; ;___|___________________\n",
      "____/______/______/___|o;._    \"      `\".o|o_.--\"    ;o;____/______/______/____\n",
      "/______/______/______/_\"=._o--._        ; | ;        ; ;/______/______/______/_\n",
      "____/______/______/______/__\"=._o--._   ;o|o;     _._;o;____/______/______/____\n",
      "/______/______/______/______/____\"=._o._; | ;_.--\"o.--\"_/______/______/______/_\n",
      "____/______/______/______/______/_____\"=.o|o_.--\"\"___/______/______/______/____\n",
      "/______/______/______/______/______/______/______/______/______/______/_____ /\n",
      "*******************************************************************************\n",
      "\n",
      "Welcome to Treasure Island.\n",
      "Your mission is to find the treasure.\n"
     ]
    },
    {
     "ename": "KeyboardInterrupt",
     "evalue": "Interrupted by user",
     "output_type": "error",
     "traceback": [
      "\u001b[0;31m---------------------------------------------------------------------------\u001b[0m\n",
      "\u001b[0;31mKeyboardInterrupt\u001b[0m                         Traceback (most recent call last)\n",
      "\u001b[0;32m<ipython-input-3-4df38f99009b>\u001b[0m in \u001b[0;36m<cell line: 30>\u001b[0;34m()\u001b[0m\n",
      "\u001b[1;32m     28\u001b[0m \u001b[0;31m#Write your code below this line 👇\u001b[0m\u001b[0;34m\u001b[0m\u001b[0;34m\u001b[0m\u001b[0m\n",
      "\u001b[1;32m     29\u001b[0m \u001b[0;34m\u001b[0m\u001b[0m\n",
      "\u001b[0;32m---> 30\u001b[0;31m \u001b[0mcross_road\u001b[0m \u001b[0;34m=\u001b[0m \u001b[0minput\u001b[0m\u001b[0;34m(\u001b[0m\u001b[0;34m'You\\'re at a cross road. where do you want to go? Type \"left\" or \"right\".'\u001b[0m\u001b[0;34m)\u001b[0m\u001b[0;34m.\u001b[0m\u001b[0mlower\u001b[0m\u001b[0;34m(\u001b[0m\u001b[0;34m)\u001b[0m\u001b[0;34m\u001b[0m\u001b[0;34m\u001b[0m\u001b[0m\n",
      "\u001b[0m\u001b[1;32m     31\u001b[0m \u001b[0;32mif\u001b[0m \u001b[0mcross_road\u001b[0m \u001b[0;34m==\u001b[0m \u001b[0;34m\"left\"\u001b[0m\u001b[0;34m:\u001b[0m\u001b[0;34m\u001b[0m\u001b[0;34m\u001b[0m\u001b[0m\n",
      "\u001b[1;32m     32\u001b[0m   \u001b[0;31m#Continue in the game\u001b[0m\u001b[0;34m\u001b[0m\u001b[0;34m\u001b[0m\u001b[0m\n",
      "\n",
      "\u001b[0;32m/usr/local/lib/python3.10/dist-packages/ipykernel/kernelbase.py\u001b[0m in \u001b[0;36mraw_input\u001b[0;34m(self, prompt)\u001b[0m\n",
      "\u001b[1;32m    849\u001b[0m                 \u001b[0;34m\"raw_input was called, but this frontend does not support input requests.\"\u001b[0m\u001b[0;34m\u001b[0m\u001b[0;34m\u001b[0m\u001b[0m\n",
      "\u001b[1;32m    850\u001b[0m             )\n",
      "\u001b[0;32m--> 851\u001b[0;31m         return self._input_request(str(prompt),\n",
      "\u001b[0m\u001b[1;32m    852\u001b[0m             \u001b[0mself\u001b[0m\u001b[0;34m.\u001b[0m\u001b[0m_parent_ident\u001b[0m\u001b[0;34m,\u001b[0m\u001b[0;34m\u001b[0m\u001b[0;34m\u001b[0m\u001b[0m\n",
      "\u001b[1;32m    853\u001b[0m             \u001b[0mself\u001b[0m\u001b[0;34m.\u001b[0m\u001b[0m_parent_header\u001b[0m\u001b[0;34m,\u001b[0m\u001b[0;34m\u001b[0m\u001b[0;34m\u001b[0m\u001b[0m\n",
      "\n",
      "\u001b[0;32m/usr/local/lib/python3.10/dist-packages/ipykernel/kernelbase.py\u001b[0m in \u001b[0;36m_input_request\u001b[0;34m(self, prompt, ident, parent, password)\u001b[0m\n",
      "\u001b[1;32m    893\u001b[0m             \u001b[0;32mexcept\u001b[0m \u001b[0mKeyboardInterrupt\u001b[0m\u001b[0;34m:\u001b[0m\u001b[0;34m\u001b[0m\u001b[0;34m\u001b[0m\u001b[0m\n",
      "\u001b[1;32m    894\u001b[0m                 \u001b[0;31m# re-raise KeyboardInterrupt, to truncate traceback\u001b[0m\u001b[0;34m\u001b[0m\u001b[0;34m\u001b[0m\u001b[0m\n",
      "\u001b[0;32m--> 895\u001b[0;31m                 \u001b[0;32mraise\u001b[0m \u001b[0mKeyboardInterrupt\u001b[0m\u001b[0;34m(\u001b[0m\u001b[0;34m\"Interrupted by user\"\u001b[0m\u001b[0;34m)\u001b[0m \u001b[0;32mfrom\u001b[0m \u001b[0;32mNone\u001b[0m\u001b[0;34m\u001b[0m\u001b[0;34m\u001b[0m\u001b[0m\n",
      "\u001b[0m\u001b[1;32m    896\u001b[0m             \u001b[0;32mexcept\u001b[0m \u001b[0mException\u001b[0m \u001b[0;32mas\u001b[0m \u001b[0me\u001b[0m\u001b[0;34m:\u001b[0m\u001b[0;34m\u001b[0m\u001b[0;34m\u001b[0m\u001b[0m\n",
      "\u001b[1;32m    897\u001b[0m                 \u001b[0mself\u001b[0m\u001b[0;34m.\u001b[0m\u001b[0mlog\u001b[0m\u001b[0;34m.\u001b[0m\u001b[0mwarning\u001b[0m\u001b[0;34m(\u001b[0m\u001b[0;34m\"Invalid Message:\"\u001b[0m\u001b[0;34m,\u001b[0m \u001b[0mexc_info\u001b[0m\u001b[0;34m=\u001b[0m\u001b[0;32mTrue\u001b[0m\u001b[0;34m)\u001b[0m\u001b[0;34m\u001b[0m\u001b[0;34m\u001b[0m\u001b[0m\n",
      "\n",
      "\u001b[0;31mKeyboardInterrupt\u001b[0m: Interrupted by user"
     ]
    }
   ],
   "source": [
    "print('''\n",
    "*******************************************************************************\n",
    "          |                   |                  |                     |\n",
    " _________|________________.=\"\"_;=.______________|_____________________|_______\n",
    "|                   |  ,-\"_,=\"\"     `\"=.|                  |\n",
    "|___________________|__\"=._o`\"-._        `\"=.______________|___________________\n",
    "          |                `\"=._o`\"=._      _`\"=._                     |\n",
    " _________|_____________________:=._o \"=._.\"_.-=\"'\"=.__________________|_______\n",
    "|                   |    __.--\" , ; `\"=._o.\" ,-\"\"\"-._ \".   |\n",
    "|___________________|_._\"  ,. .` ` `` ,  `\"-._\"-._   \". '__|___________________\n",
    "          |           |o`\"=._` , \"` `; .\". ,  \"-._\"-._; ;              |\n",
    " _________|___________| ;`-.o`\"=._; .\" ` '`.\"\\` . \"-._ /_______________|_______\n",
    "|                   | |o;    `\"-.o`\"=._``  '` \" ,__.--o;   |\n",
    "|___________________|_| ;     (#) `-.o `\"=.`_.--\"_o.-; ;___|___________________\n",
    "____/______/______/___|o;._    \"      `\".o|o_.--\"    ;o;____/______/______/____\n",
    "/______/______/______/_\"=._o--._        ; | ;        ; ;/______/______/______/_\n",
    "____/______/______/______/__\"=._o--._   ;o|o;     _._;o;____/______/______/____\n",
    "/______/______/______/______/____\"=._o._; | ;_.--\"o.--\"_/______/______/______/_\n",
    "____/______/______/______/______/_____\"=.o|o_.--\"\"___/______/______/______/____\n",
    "/______/______/______/______/______/______/______/______/______/______/_____ /\n",
    "*******************************************************************************\n",
    "''')\n",
    "print(\"Welcome to Treasure Island.\")\n",
    "print(\"Your mission is to find the treasure.\")\n",
    "\n",
    "#https://www.draw.io/?lightbox=1&highlight=0000ff&edit=_blank&layers=1&nav=1&title=Treasure%20Island%20Conditional.drawio#Uhttps%3A%2F%2Fdrive.google.com%2Fuc%3Fid%3D1oDe4ehjWZipYRsVfeAx2HyB7LCQ8_Fvi%26export%3Ddownload\n",
    "\n",
    "#Write your code below this line 👇\n",
    "\n",
    "cross_road = input('You\\'re at a cross road. where do you want to go? Type \"left\" or \"right\".').lower()\n",
    "if cross_road == \"left\":\n",
    "  #Continue in the game\n",
    "  lake_cross = input('You\\'ve come to a lake. There is an island in the middle of the lake. Type \"wait\" to wait for a boat. Type \"swim\" to swim across.').lower()\n",
    "  if lake_cross == \"wait\":\n",
    "    #Continue the game\n",
    "    island = input('You\\'ve arrived at the island unharmed. There is a house with 3 doors. One red, one yellow and one blue. Which color do you choose?').lower()\n",
    "    if island == \"red\":\n",
    "      print(\"It's a room full of fire. GAME OVER!\")\n",
    "    elif island == \"yellow\":\n",
    "      print(\"You found the treasure! YOU WIN!\")\n",
    "    elif island == \"blue\":\n",
    "      print(\"You entere a room of beasts. GAME OVER!\")\n",
    "    else:\n",
    "      print(\"You chose a door that dosen't exist. GAME OVER!\")\n",
    "  else:\n",
    "    print(\"You got attacked by an angry trout. GAME OVER!\")\n",
    "else:\n",
    "  print(\"You have fallen into a hole. GAME OVER!\")\n",
    "\n"
   ]
  },
  {
   "cell_type": "markdown",
   "id": "6fda6b10",
   "metadata": {},
   "source": [
    "# *#Day-4-Beginner- Randamisation and Python Lists*\n"
   ]
  },
  {
   "cell_type": "markdown",
   "id": "1be7ad45",
   "metadata": {},
   "source": [
    "#`Day-4 Goals - By End of the day`"
   ]
  },
  {
   "cell_type": "markdown",
   "id": "c16263c6",
   "metadata": {},
   "source": [
    "#`Randomisation`\n"
   ]
  },
  {
   "cell_type": "code",
   "execution_count": null,
   "id": "09dc447b",
   "metadata": {},
   "outputs": [
    {
     "name": "stdout",
     "output_type": "stream",
     "text": [
      "763\n"
     ]
    }
   ],
   "source": [
    "import random\n",
    "\n",
    "random_int = random.randint(1, 1000)\n",
    "print(random_int)"
   ]
  },
  {
   "cell_type": "markdown",
   "id": "64011c6e",
   "metadata": {},
   "source": [
    "*Module* - Split up of a complex program steps.\n"
   ]
  },
  {
   "cell_type": "code",
   "execution_count": null,
   "id": "1a366574",
   "metadata": {},
   "outputs": [],
   "source": [
    "pi = 3.14159246\n"
   ]
  },
  {
   "cell_type": "code",
   "execution_count": null,
   "id": "1072081c",
   "metadata": {},
   "outputs": [
    {
     "name": "stdout",
     "output_type": "stream",
     "text": [
      "0.03964691633306772\n",
      "0.19823458166533858\n"
     ]
    }
   ],
   "source": [
    "import random\n",
    "\n",
    "random_float = random.random()\n",
    "print(random_float)\n",
    "\n",
    "print(random_float*5)"
   ]
  },
  {
   "cell_type": "code",
   "execution_count": null,
   "id": "c220fbb1",
   "metadata": {},
   "outputs": [],
   "source": []
  }
 ],
 "metadata": {
  "kernelspec": {
   "display_name": "Python 3",
   "language": "python",
   "name": "python3"
  },
  "language_info": {
   "codemirror_mode": {
    "name": "ipython",
    "version": 3
   },
   "file_extension": ".py",
   "mimetype": "text/x-python",
   "name": "python",
   "nbconvert_exporter": "python",
   "pygments_lexer": "ipython3",
   "version": "3.10.10"
  }
 },
 "nbformat": 4,
 "nbformat_minor": 5
}
